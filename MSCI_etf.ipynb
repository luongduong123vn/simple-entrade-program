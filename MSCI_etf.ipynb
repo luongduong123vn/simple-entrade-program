{
 "cells": [
  {
   "cell_type": "code",
   "execution_count": 1,
   "id": "b9676385",
   "metadata": {},
   "outputs": [],
   "source": [
    "country_tickers =  [\"EWW\",  # iShares MSCI Mexico Inv. Mt. Idx\n",
    "                    \"ERUS\", # iShares MSCI Russia ETF\n",
    "                    \"EWQ\",  # iShares MSCI France Index ETF\n",
    "                    \"EWY\",  # iShares MSCI South Korea Index ETF\n",
    "                    \"EWZ\",  # iShares MSCI Brazil Index ETF\n",
    "                    \"EPOL\", # ishares MSCI Poland ETF\n",
    "                    \"THD\",  # iShares MSCI Thailand ETF\n",
    "                    \"NGE\",  # GlobalX MSCI Nigeria ETF\n",
    "                    \"ARGT\", # GlobalX MSCI Argentina ETF\n",
    "                    \"EPHE\", # iShares MSCI Philippines ETF\n",
    "                    \"EWA\",  # iShares MSCI Australia ETF\n",
    "                    \"ECH\",  # iShares MSCI Chile Investable Market Index ETF\n",
    "                   \"MCHI\", # iShares MSCI China ETF\n",
    "                   \"EGPT\", #VanEck Egypt Index ETF\n",
    "                   \"INDA\", #iShares MSCI India ETF\n",
    "                   \"EIDO\", #iShares MSCI Indonesia ETF\n",
    "                   \"EPU\", #iShares MSCI Peru ETF\n",
    "                   \"EZA\", #iShares MSCI South Africa ETF\n",
    "                   \"EWT\", #iShares MSCI Taiwan ETF\n",
    "                   \"TUR\", #iShares MSCI Turkey ETF\n",
    "                   ]\n",
    "country_developed = [\"EWJ\",  # iShares MSCI Japan Index ETF\n",
    "                    \"EFNL\", # iShares MSCI Finland Market Index ETF\n",
    "                    \"IVV\",  # iShares S&P 500 Index\n",
    "                    \"EWH\",  # iShares MSCI Hong Kong Index ETF\n",
    "                    \"EWI\",  # iShares MSCI Italy Index ETF\n",
    "                    \"EWP\",  # iShares MSCI Spain Index ETF\n",
    "                    \"EWD\",  # iShares MSCI Sweden Index ETF\n",
    "                    \"EWL\",  # iShares MSCI Switzerland Index ETF\n",
    "                    \"EWC\",  # iShares MSCI Canada Index ETF\n",
    "                    \"EWO\",  # iShares MSCI Austria Investable Mkt Index ETF\n",
    "                    \"EWK\"  # iShares MSCI Belgium Investable Market Index ETF\n",
    "                    ]\n"
   ]
  },
  {
   "cell_type": "code",
   "execution_count": 7,
   "id": "002927d7",
   "metadata": {},
   "outputs": [
    {
     "name": "stdout",
     "output_type": "stream",
     "text": [
      "   ticker   exchange assetType priceCurrency   startDate     endDate\n",
      "0    ARGT  NYSE ARCA       ETF           USD  2011-03-03  2023-03-23\n",
      "1     ECH       BATS       ETF           USD  2007-11-20  2023-03-23\n",
      "2    EFNL       BATS       ETF           USD  2012-01-26  2023-03-23\n",
      "3    EPHE  NYSE ARCA       ETF           USD  2010-09-29  2023-03-23\n",
      "4    EPOL  NYSE ARCA       ETF           USD  2010-05-26  2023-03-23\n",
      "6     EWA  NYSE ARCA       ETF           USD  1996-04-01  2023-03-23\n",
      "7     EWC  NYSE ARCA       ETF           USD  1996-04-01  2023-03-23\n",
      "8     EWD  NYSE ARCA       ETF           USD  1996-04-01  2023-03-23\n",
      "9     EWH  NYSE ARCA       ETF           USD  1996-04-01  2023-03-23\n",
      "10    EWI  NYSE ARCA       ETF           USD  1996-04-01  2023-03-23\n",
      "11    EWJ  NYSE ARCA       ETF           USD  1996-04-01  2023-03-23\n",
      "12    EWK  NYSE ARCA       ETF           USD  1996-04-01  2023-03-23\n",
      "13    EWL  NYSE ARCA       ETF           USD  1996-04-01  2023-03-23\n",
      "14    EWO  NYSE ARCA       ETF           USD  1996-04-01  2023-03-23\n",
      "15    EWP  NYSE ARCA       ETF           USD  1996-04-01  2023-03-23\n",
      "16    EWQ  NYSE ARCA       ETF           USD  1996-04-01  2023-03-23\n",
      "17    EWW  NYSE ARCA       ETF           USD  1996-04-01  2023-03-23\n",
      "18    EWY  NYSE ARCA       ETF           USD  2000-05-12  2023-03-23\n",
      "19    EWZ  NYSE ARCA       ETF           USD  2000-07-14  2023-03-23\n",
      "20    IVV  NYSE ARCA       ETF           USD  2000-05-19  2023-03-23\n",
      "21    NGE  NYSE ARCA       ETF           USD  2013-04-03  2023-03-23\n",
      "22    THD  NYSE ARCA       ETF           USD  2008-04-01  2023-03-23\n"
     ]
    },
    {
     "name": "stderr",
     "output_type": "stream",
     "text": [
      "C:\\Users\\duongluong\\AppData\\Local\\Temp\\ipykernel_10024\\4153789684.py:12: FutureWarning: In a future version of pandas all arguments of DataFrame.dropna will be keyword-only.\n",
      "  supported_tickers = supported_tickers.dropna(0);\n"
     ]
    }
   ],
   "source": [
    "# Import libraries\n",
    "import pandas as pd;\n",
    "import numpy as np;\n",
    "\n",
    "import requests;\n",
    "import json;\n",
    "\n",
    "from tqdm import tqdm;\n",
    "\n",
    "supported_tickers = pd.read_csv(r\"C:/Users/duongluong/Desktop/finpros/tiingo/tiingo_supported_tickers.csv\")\n",
    "supported_tickers = supported_tickers[supported_tickers.assetType == \"ETF\"];\n",
    "supported_tickers = supported_tickers.dropna(0);\n",
    "supported_tickers = supported_tickers[supported_tickers.ticker.isin(country_tickers)].reset_index(drop=True);\n",
    "supported_tickers = supported_tickers[supported_tickers.endDate == \"2023-03-23\"]\n",
    "print(supported_tickers)"
   ]
  },
  {
   "cell_type": "code",
   "execution_count": 10,
   "id": "b08c7e20",
   "metadata": {},
   "outputs": [
    {
     "name": "stderr",
     "output_type": "stream",
     "text": [
      "100%|██████████| 22/22 [03:06<00:00,  8.50s/it]\n"
     ]
    }
   ],
   "source": [
    "tiingo_token = '09c8cf45aa0af105efa9f4160a5efc9def76140b'\n",
    "headers = {\n",
    "'Content-Type': 'application/json',\n",
    "'Authorization' : f'Token {tiingo_token}'\n",
    "}\n",
    "select_columns = [\"date\", \"adjClose\", \"adjHigh\", \"adjLow\", \"adjOpen\", \"adjVolume\"];\n",
    "rename_columns = [\"Timestamp\", \"Close\", \"High\", \"Low\", \"Open\", \"Volume\"];\n",
    "# Scrape Data From Tiingo\n",
    "\n",
    "for ticker, start_date, end_date in tqdm(supported_tickers[[\"ticker\", \"startDate\", \"endDate\"]].values):\n",
    "    try:\n",
    "        url = f\"https://api.tiingo.com/tiingo/daily/{ticker}/prices?startDate={start_date}&endDate={end_date}&format=json&resampleFreq=daily\";\n",
    "\n",
    "        r = requests.get(url, headers=headers).json()\n",
    "\n",
    "        df = pd.DataFrame(r)\n",
    "        df = df[select_columns];\n",
    "        df.columns = rename_columns;\n",
    "        df.Timestamp = pd.to_datetime(df.Timestamp)\n",
    "\n",
    "        df.to_parquet(f\"C:/Users/duongluong/Desktop/finpros/tiingo/data/daily_{ticker}_ohlcv_tiingo.parquet\")\n",
    "    except Exception as e:\n",
    "        print(f\"Error Occured With {ticker}: \", e)"
   ]
  },
  {
   "cell_type": "code",
   "execution_count": null,
   "id": "760aa5af",
   "metadata": {},
   "outputs": [],
   "source": [
    "import pandas as pd\n",
    "from datetime import time,date,datetime,timedelta\n",
    "import requests\n",
    "import numpy as np\n",
    "import trade_package\n",
    "\n",
    "def get_etf_data():\n",
    "    etf_file_names = trade_package.get_file_name('C:/Users/duongluong/Desktop/finpros/tiingo/data')\n",
    "    etf_data = pd.DataFrame()\n",
    "    for etf_file_str in etf_file_names:\n",
    "        etf_temp = pd.read_parquet(f\"C:/Users/duongluong/Desktop/finpros/tiingo/data/{etf_file_str}\")\n",
    "        etf_name = etf_file_str.split(\"_\")[1]\n",
    "        etf_temp = etf_temp.set_index([\"Timestamp\"], drop=True)\n",
    "        etf_temp.rename(columns= lambda col: col +\" \"+ etf_name, inplace=True)\n",
    "        etf_data = pd.concat([etf_data, etf_temp], axis=1)\n",
    "    return etf_data\n",
    "\n",
    "etf_df = pd.read_csv(r'C:/Users/duongluong/Desktop/finpros/tiingo/etf_data.csv')\n",
    "print(etf_df)\n",
    "def format_date_pd(series):\n",
    "    #series in the form : pandas date range\n",
    "    yymmdd = list(map(lambda x: int(x), str(series).split(\" \")[0].split(\"-\")))\n",
    "    return datetime(int(yymmdd[0]),int(yymmdd[1]),int(yymmdd[2]))\n",
    "etf_df[\"Timestamp\"] = pd.Series(etf_df[\"Timestamp\"]).apply(lambda x: format_date_pd(x))\n",
    "\n",
    "print(etf_df)\n",
    "etf_df.set_index(etf_df[\"Timestamp\"], inplace=True)\n",
    "etf_df.drop(columns=['Timestamp'], inplace=True)\n",
    "etf_df = etf_df[datetime(2018,1,1):]\n",
    "print(etf_df)"
   ]
  },
  {
   "cell_type": "code",
   "execution_count": null,
   "id": "48b78abd",
   "metadata": {},
   "outputs": [],
   "source": []
  }
 ],
 "metadata": {
  "kernelspec": {
   "display_name": "Python 3 (ipykernel)",
   "language": "python",
   "name": "python3"
  },
  "language_info": {
   "codemirror_mode": {
    "name": "ipython",
    "version": 3
   },
   "file_extension": ".py",
   "mimetype": "text/x-python",
   "name": "python",
   "nbconvert_exporter": "python",
   "pygments_lexer": "ipython3",
   "version": "3.10.9"
  }
 },
 "nbformat": 4,
 "nbformat_minor": 5
}
