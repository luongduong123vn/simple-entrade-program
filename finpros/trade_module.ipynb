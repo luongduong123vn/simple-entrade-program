{
 "cells": [
  {
   "cell_type": "code",
   "execution_count": null,
   "id": "b41c3a97",
   "metadata": {},
   "outputs": [],
   "source": [
    "from selenium import webdriver\n",
    "from selenium.webdriver.common.keys import Keys\n",
    "from webdriver_manager.chrome import ChromeDriverManager\n",
    "from selenium.webdriver.common.by import By\n",
    "import vn30f_bbs.py\n",
    "\n",
    "### 虚拟账户账户\n",
    "def selenium_order(username,userpassword,lots,order):\n",
    "    ## 打开网站\n",
    "    driver = webdriver.Chrome(ChromeDriverManager().install())\n",
    "    driver.get('https://trading.entrade.com.vn/dang-nhap')\n",
    "    ### 输入账户名\n",
    "    username_input = driver.find_element(By.XPATH,('//*[@id=\"username-inp\"]'))\n",
    "    username_input.send_keys(username)\n",
    "    ### 输入密码\n",
    "    userpassword_input = driver.find_element(By.XPATH,('//*[@id=\"password-inp\"]'))\n",
    "    userpassword_input.send_keys(userpassword)\n",
    "    ### 点击登录建\n",
    "    login_input = driver.find_element(By.XPATH,('//*[@id=\"\blogin-btn\"]'))\n",
    "    login_input.click()\n",
    "    ### 等待5秒登录\n",
    "    import time\n",
    "    time.sleep(5)\n",
    "    ### 判断当前的账户状态，account_mode只有Real和空白两种值，若是前者则是真实账户状态，若是后者则表示demo\n",
    "    account_mode = driver.find_element(By.XPATH,('//*[@id=\"paper-trade-btn\"]/div/div[1]/div[1]/label')).text\n",
    "    if account_mode=='Demo':\n",
    "        pass\n",
    "    else:\n",
    "        driver.find_element(By.XPATH,('//*[@id=\"paper-trade-btn\"]/div/div[1]/div[2]/div/label')).click()\n",
    "    ### 点击MTL，设定买入,卖出为市场价格模式\n",
    "    MTL_click = MTL_click = driver.find_element(By.XPATH,('//*[@id=\"order-type\"]/button[2]'))\n",
    "    MTL_click.click()\n",
    "    ### 输入购买数量\n",
    "    lots_input = driver.find_element(By.XPATH,('//*[@id=\"order-quantity-inp\"]'))\n",
    "    lots_input.send_keys(lots)\n",
    "    ### 判断买入或者卖出，然后进行交易\n",
    "    if order=='long':\n",
    "        long_click = driver.find_element(By.XPATH,('//*[@id=\"root\"]/main/div/div[1]/div[1]/div/div[3]/form/div/div/div[2]/div[2]/div[1]'))\n",
    "        long_click.click()\n",
    "    elif order=='short':\n",
    "        short_click = driver.find_element(By.XPATH,('//*[@id=\"root\"]/main/div/div[1]/div[1]/div/div[3]/form/div/div/div[2]/div[2]/div[2]'))\n",
    "        short_click.click()"
   ]
  }
 ],
 "metadata": {
  "kernelspec": {
   "display_name": "Python 3 (ipykernel)",
   "language": "python",
   "name": "python3"
  },
  "language_info": {
   "codemirror_mode": {
    "name": "ipython",
    "version": 3
   },
   "file_extension": ".py",
   "mimetype": "text/x-python",
   "name": "python",
   "nbconvert_exporter": "python",
   "pygments_lexer": "ipython3",
   "version": "3.9.13"
  }
 },
 "nbformat": 4,
 "nbformat_minor": 5
}
